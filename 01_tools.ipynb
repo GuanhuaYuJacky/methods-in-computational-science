{
 "cells": [
  {
   "cell_type": "markdown",
   "metadata": {},
   "source": [
    "# Tools for Computational Science and Engineering"
   ]
  },
  {
   "cell_type": "markdown",
   "metadata": {},
   "source": [
    "## Shell\n",
    "\n",
    "## Version Control\n",
    "\n",
    "## Compilation Tools\n",
    "\n",
    "### Compilers\n",
    "### Build Systems\n",
    "### Performance Tools\n",
    "\n",
    "## Reproducibility\n",
    "### Testing\n",
    "\n",
    "## Verification and Validation\n",
    "### Method of Construction"
   ]
  }
 ],
 "metadata": {
  "kernelspec": {
   "display_name": "Python 3",
   "language": "python",
   "name": "python3"
  },
  "language_info": {
   "codemirror_mode": {
    "name": "ipython",
    "version": 3
   },
   "file_extension": ".py",
   "mimetype": "text/x-python",
   "name": "python",
   "nbconvert_exporter": "python",
   "pygments_lexer": "ipython3",
   "version": "3.7.7"
  }
 },
 "nbformat": 4,
 "nbformat_minor": 2
}
