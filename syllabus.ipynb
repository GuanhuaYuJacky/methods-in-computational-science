{
 "cells": [
  {
   "cell_type": "markdown",
   "metadata": {},
   "source": [
    "# Methods in Computational Science - APMA 4302 - Syllabus and Course Information"
   ]
  },
  {
   "cell_type": "markdown",
   "metadata": {},
   "source": [
    "\"Far better an approximate answer to the right question, which is often vague, than an exact answer to the wrong question, which can always be made precise.\"\n",
    "\n",
    "John W. Tukey"
   ]
  },
  {
   "cell_type": "markdown",
   "metadata": {
    "slideshow": {
     "slide_type": "slide"
    }
   },
   "source": [
    "## Purpose\n",
    "\n"
   ]
  },
  {
   "cell_type": "markdown",
   "metadata": {
    "slideshow": {
     "slide_type": "slide"
    }
   },
   "source": [
    "## Goals and Scope\n"
   ]
  },
  {
   "cell_type": "markdown",
   "metadata": {
    "slideshow": {
     "slide_type": "slide"
    }
   },
   "source": [
    "## Pre-requisites\n",
    "The following subjects will be used extensively so it is best that you have had at least one course in each of the following:\n"
   ]
  },
  {
   "cell_type": "markdown",
   "metadata": {
    "slideshow": {
     "slide_type": "slide"
    }
   },
   "source": [
    "## Textbook(s)\n",
    " - Required:  None! - [Course notes are available](http://github.com/mandli/numerical-methods-pdes)\n",
    " - Highly suggested reference\n"
   ]
  },
  {
   "cell_type": "markdown",
   "metadata": {
    "slideshow": {
     "slide_type": "slide"
    }
   },
   "source": [
    "### General Topic Coverage\n",
    "\n",
    "1. Review\n",
    "   1. PDEs\n",
    "      1. Categorization\n",
    "      1. Basic solution techniques\n",
    "   1. Finite differences\n",
    "      1. Basic derivations\n",
    "      1. Errors"
   ]
  },
  {
   "cell_type": "markdown",
   "metadata": {
    "raw_mimetype": "text/html",
    "slideshow": {
     "slide_type": "slide"
    }
   },
   "source": [
    "### Tentative Schedule\n",
    "<table border=\"3\" cellpadding=\"0\" cellspacing=\"1\" width=\"100%\">\n",
    "    <tr>\n",
    "        <th align='center'>Month</th> <th align='center'>Day</th> <th align=\"center\">Lecture</th>  <th align='center'>Topic</th> <th align=\"center\"> Assignments </th> <th align=\"center\">Exams</th>\n",
    "    </tr>\n",
    "\n",
    "</table>"
   ]
  },
  {
   "cell_type": "markdown",
   "metadata": {
    "slideshow": {
     "slide_type": "slide"
    }
   },
   "source": [
    "### Course Grading\n",
    "\n",
    "The course grade will be composed of three different activities, homework, exams, and a final project.  The homework, exams and final project will all be turned in via  Courseworks.  Exams will be take-home over the weekend.\n",
    "\n",
    "| Assignments   | Percent Total |\n",
    "|---------------|:-------------:|\n",
    "| Homework (6)  |      30%      |\n",
    "| Exams (2)     |      30%      |\n",
    "| Final Project |      40%      |\n",
    "\n",
    "#### Collaborative Work\n",
    "\n",
    "#### Late Policy\n"
   ]
  },
  {
   "cell_type": "markdown",
   "metadata": {
    "slideshow": {
     "slide_type": "slide"
    }
   },
   "source": [
    "### Contact Info\n",
    "\n",
    "Any topic related questions should be sent to our class discussion board:\n",
    "\n",
    "\n",
    "\n",
    "Logistics and grading questions can be sent to the instructors.\n",
    "\n",
    "| Person            | Photo                                              | Email                   | Phone          |Office Hours |\n",
    "|-------------------|-------------------------------------------------|-------------------------|----------------|-------------|\n",
    "| Prof. Kyle Mandli | ![Kyle Mandli](./images/mandli_small.png)                                          |kyle.mandli@columbia.edu | (212) 854-4485 | TBA, 288 ET |\n"
   ]
  }
 ],
 "metadata": {
  "kernelspec": {
   "display_name": "Python 3",
   "language": "python",
   "name": "python3"
  },
  "language_info": {
   "codemirror_mode": {
    "name": "ipython",
    "version": 3
   },
   "file_extension": ".py",
   "mimetype": "text/x-python",
   "name": "python",
   "nbconvert_exporter": "python",
   "pygments_lexer": "ipython3",
   "version": "3.7.7"
  },
  "latex_envs": {
   "bibliofile": "biblio.bib",
   "cite_by": "apalike",
   "current_citInitial": 1,
   "eqLabelWithNumbers": true,
   "eqNumInitial": 0
  }
 },
 "nbformat": 4,
 "nbformat_minor": 2
}
