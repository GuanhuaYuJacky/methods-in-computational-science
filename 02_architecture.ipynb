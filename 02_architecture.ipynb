{
 "cells": [
  {
   "cell_type": "markdown",
   "metadata": {},
   "source": [
    "# Basic Computer Architecture and Parallel Theory\n",
    "\n",
    "## Operations\n",
    "\n",
    "## Memory Layout\n",
    "\n",
    "### Caches\n",
    "\n",
    "## Obey the Law!\n",
    "### Moore's Law\n",
    "### Amdahl's Law\n",
    "### Flynn's Taxonomy\n",
    "\n",
    "## Threads vs. Processes\n",
    "\n",
    "## Task vs. Data Parallelism\n",
    "\n",
    "## Partitioning and Load Balancing\n",
    "\n",
    "## Computational Intensity\n",
    "### FLOPs vs. MOPs\n",
    "\n",
    "## Scalability\n",
    "\n",
    "## Models\n",
    "### Roof-line Model"
   ]
  }
 ],
 "metadata": {
  "kernelspec": {
   "display_name": "Python 3",
   "language": "python",
   "name": "python3"
  },
  "language_info": {
   "codemirror_mode": {
    "name": "ipython",
    "version": 3
   },
   "file_extension": ".py",
   "mimetype": "text/x-python",
   "name": "python",
   "nbconvert_exporter": "python",
   "pygments_lexer": "ipython3",
   "version": "3.7.7"
  }
 },
 "nbformat": 4,
 "nbformat_minor": 2
}
